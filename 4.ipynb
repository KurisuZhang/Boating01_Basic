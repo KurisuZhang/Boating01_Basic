{
  "nbformat": 4,
  "nbformat_minor": 0,
  "metadata": {
    "colab": {
      "provenance": [],
      "collapsed_sections": [],
      "authorship_tag": "ABX9TyM3Sjc7wm9WiWvHGY6HYtZF",
      "include_colab_link": true
    },
    "kernelspec": {
      "name": "python3",
      "display_name": "Python 3"
    },
    "language_info": {
      "name": "python"
    },
    "accelerator": "GPU"
  },
  "cells": [
    {
      "cell_type": "markdown",
      "metadata": {
        "id": "view-in-github",
        "colab_type": "text"
      },
      "source": [
        "<a href=\"https://colab.research.google.com/github/KurisuZhang/Boating01_Basic/blob/main/4.ipynb\" target=\"_parent\"><img src=\"https://colab.research.google.com/assets/colab-badge.svg\" alt=\"Open In Colab\"/></a>"
      ]
    },
    {
      "cell_type": "code",
      "execution_count": 1,
      "metadata": {
        "id": "iCJwMskw4c_Y"
      },
      "outputs": [],
      "source": [
        "import numpy as np\n",
        "import torch\n",
        "import torchvision\n",
        "import matplotlib.pyplot as plt"
      ]
    },
    {
      "cell_type": "markdown",
      "source": [
        "### download dataset & DataLoader"
      ],
      "metadata": {
        "id": "2uWFozBgTZ-p"
      }
    },
    {
      "cell_type": "code",
      "source": [
        "trainingdata = torchvision.datasets.FashionMNIST('./FashionMNIST/',train=True,download=True,transform=torchvision.transforms.ToTensor())\n",
        "testdata = torchvision.datasets.FashionMNIST('./FashionMNIST/',train=False,download=True,transform=torchvision.transforms.ToTensor())\n",
        "\n",
        "batch_size = 64\n",
        "trainDataLoader = torch.utils.data.DataLoader(trainingdata,batch_size=batch_size,shuffle=True)\n",
        "testDataLoader = torch.utils.data.DataLoader(testdata,batch_size=batch_size,shuffle=False)"
      ],
      "metadata": {
        "id": "sooL2Zl84irI"
      },
      "execution_count": 39,
      "outputs": []
    },
    {
      "cell_type": "markdown",
      "source": [
        "### Define network architecture"
      ],
      "metadata": {
        "id": "U1lKZIoLT25L"
      }
    },
    {
      "cell_type": "code",
      "source": [
        "class LinearReg(torch.nn.Module):\n",
        "  def __init__(self):\n",
        "    super(LinearReg, self).__init__()\n",
        "    self.linear_1 = torch.nn.Linear(28*28,256)\n",
        "    self.linear_2 = torch.nn.Linear(256,128)\n",
        "    self.linear_3 = torch.nn.Linear(128,64)\n",
        "    self.linear_output = torch.nn.Linear(64,10)\n",
        "    self.relu = torch.nn.ReLU()\n",
        "\n",
        "  def forward(self, x):\n",
        "    x = x.view(-1,28*28)\n",
        "\n",
        "    out = self.linear_1(x)\n",
        "    out = self.relu(out)\n",
        "    out = self.linear_2(out)\n",
        "    out = self.relu(out)\n",
        "    out = self.linear_3(out)\n",
        "    out = self.relu(out)\n",
        "    out = self.linear_output(out)\n",
        "\n",
        "    return out\n",
        "\n",
        "net = LinearReg().cuda()\n",
        "Loss = torch.nn.CrossEntropyLoss()\n",
        "optimizer = torch.optim.SGD(net.parameters(), lr=0.01)"
      ],
      "metadata": {
        "id": "Pcdc9ung4qIL"
      },
      "execution_count": 4,
      "outputs": []
    },
    {
      "cell_type": "markdown",
      "source": [
        "### Tranning"
      ],
      "metadata": {
        "id": "2wQ4NgW6T_6W"
      }
    },
    {
      "cell_type": "code",
      "source": [
        "train_loss_history = []\n",
        "test_loss_history = []\n",
        "\n",
        "for epoch in range(20):\n",
        "  train_loss = 0.0\n",
        "  test_loss = 0.0\n",
        "  for i, data in enumerate(trainDataLoader):\n",
        "    images, labels = data\n",
        "    images = images.cuda()\n",
        "    labels = labels.cuda()\n",
        "    optimizer.zero_grad()\n",
        "    predicted_output = net(images)\n",
        "    fit = Loss(predicted_output,labels)\n",
        "    fit.backward()\n",
        "    optimizer.step()\n",
        "    train_loss += fit.item()\n",
        "  for i, data in enumerate(testDataLoader):\n",
        "    with torch.no_grad():\n",
        "      images, labels = data\n",
        "      images = images.cuda()\n",
        "      labels = labels.cuda()\n",
        "      predicted_output = net(images)\n",
        "      fit = Loss(predicted_output,labels)\n",
        "      test_loss += fit.item()\n",
        "  train_loss = train_loss/len(trainDataLoader)\n",
        "  test_loss = test_loss/len(testDataLoader)\n",
        "  train_loss_history.append(train_loss)\n",
        "  test_loss_history.append(test_loss)\n",
        "  print('Epoch %s, Train loss %s, Test loss %s'%(epoch, train_loss, test_loss))"
      ],
      "metadata": {
        "colab": {
          "base_uri": "https://localhost:8080/",
          "height": 0
        },
        "id": "MX2Bbkr24tZt",
        "outputId": "375cf76c-52f7-43ec-c21d-e4de56747eaa"
      },
      "execution_count": 5,
      "outputs": [
        {
          "output_type": "stream",
          "name": "stdout",
          "text": [
            "Epoch 0, Train loss 1.8124695234080113, Test loss 1.0608523582956593\n",
            "Epoch 1, Train loss 0.8603097321128031, Test loss 0.7817496535884347\n",
            "Epoch 2, Train loss 0.691737867971219, Test loss 0.6561810913359284\n",
            "Epoch 3, Train loss 0.6049712259632184, Test loss 0.6343625713685516\n",
            "Epoch 4, Train loss 0.5520883998605234, Test loss 0.6073643982790078\n",
            "Epoch 5, Train loss 0.517778656550689, Test loss 0.5240179163635157\n",
            "Epoch 6, Train loss 0.49034826328823056, Test loss 0.5042625808032455\n",
            "Epoch 7, Train loss 0.4702379362923758, Test loss 0.48644792046516566\n",
            "Epoch 8, Train loss 0.45178875234970917, Test loss 0.5431214157183459\n",
            "Epoch 9, Train loss 0.4377556128351927, Test loss 0.45511761563978376\n",
            "Epoch 10, Train loss 0.426228263659645, Test loss 0.4704142417877343\n",
            "Epoch 11, Train loss 0.4153214718010634, Test loss 0.518676614685423\n",
            "Epoch 12, Train loss 0.405807743671098, Test loss 0.4636938646910297\n",
            "Epoch 13, Train loss 0.3955499390676332, Test loss 0.4535922399561876\n",
            "Epoch 14, Train loss 0.3865439010057241, Test loss 0.41884633395702214\n",
            "Epoch 15, Train loss 0.37799531396136865, Test loss 0.41146401434567326\n",
            "Epoch 16, Train loss 0.37081576907622027, Test loss 0.41299614006546653\n",
            "Epoch 17, Train loss 0.3627272417455086, Test loss 0.4207206748093769\n",
            "Epoch 18, Train loss 0.35482959624038324, Test loss 0.4049066494984232\n",
            "Epoch 19, Train loss 0.34942920423392804, Test loss 0.38763246822888686\n"
          ]
        }
      ]
    },
    {
      "cell_type": "markdown",
      "source": [
        "### train- and test- loss curves"
      ],
      "metadata": {
        "id": "TfsH1IvFUGYC"
      }
    },
    {
      "cell_type": "code",
      "source": [
        "plt.plot(range(20),train_loss_history,'-',linewidth=3,label='Train error')\n",
        "plt.plot(range(20),test_loss_history,'-',linewidth=3,label='Test error')\n",
        "plt.xlabel('epoch')\n",
        "plt.ylabel('loss')\n",
        "plt.grid(True)\n",
        "plt.legend()"
      ],
      "metadata": {
        "colab": {
          "base_uri": "https://localhost:8080/",
          "height": 297
        },
        "id": "qsJrHdSM7PvA",
        "outputId": "524e461f-f099-4379-e745-dd0667d8e524"
      },
      "execution_count": 6,
      "outputs": [
        {
          "output_type": "execute_result",
          "data": {
            "text/plain": [
              "<matplotlib.legend.Legend at 0x7fe591b411d0>"
            ]
          },
          "metadata": {},
          "execution_count": 6
        },
        {
          "output_type": "display_data",
          "data": {
            "text/plain": [
              "<Figure size 432x288 with 1 Axes>"
            ],
            "image/png": "[encoded data removed]"
          },
          "metadata": {
            "needs_background": "light"
          }
        }
      ]
    },
    {
      "cell_type": "markdown",
      "source": [
        "### test accuracy"
      ],
      "metadata": {
        "id": "27h-b0yaUPGc"
      }
    },
    {
      "cell_type": "code",
      "source": [
        "device = torch.device('cuda' if torch.cuda.is_available() else 'cpu')\n",
        "\n",
        "n_correct = 0\n",
        "n_samples = 0\n",
        "for images, labels in testDataLoader:\n",
        "    images = images.to(device)\n",
        "    labels = labels.to(device)\n",
        "    outputs = net(images)\n",
        "    _, predicted = torch.max(outputs, 1)\n",
        "    n_samples += labels.size(0)\n",
        "    n_correct += (predicted == labels).sum().item()\n",
        "      \n",
        "accurace = 100.0 * n_correct / n_samples\n",
        "print(f'Accuracy of the network: {accurace} %')"
      ],
      "metadata": {
        "id": "AlFjfzWS9Oy7",
        "colab": {
          "base_uri": "https://localhost:8080/",
          "height": 0
        },
        "outputId": "02b12d2b-8a37-43c3-d3f1-2e99c567dd58"
      },
      "execution_count": 38,
      "outputs": [
        {
          "output_type": "stream",
          "name": "stdout",
          "text": [
            "Accuracy of the network: 86.14 %\n"
          ]
        }
      ]
    },
    {
      "cell_type": "markdown",
      "source": [
        "### 3 image samples, visualize the predicted class probabilities"
      ],
      "metadata": {
        "id": "Cg2N5_99bJHC"
      }
    },
    {
      "cell_type": "code",
      "source": [
        "# calculate ouotput label\n",
        "predicted_prob = net(images)\n",
        "predicted_output = torch.max(predicted_prob, 1)\n",
        "predicted_prob = predicted_prob.to(\"cpu\")\n",
        "\n",
        "for index in np.arange(0,3):\n",
        "  plt.figure(figsize=(6,6))\n",
        "  plt.imshow(images[index].cpu().squeeze().numpy(),cmap=plt.cm.gray)\n",
        "  plt.show()\n",
        "\n",
        "  predict_label = predicted_output.indices[index].item()\n",
        "  print(\"predict correct\") if predict_label == labels[index] else print(\"predict wrong\")\n",
        "  print(\"predicted class probabilities is : {}\".format(predicted_prob[index].detach().numpy()))\n",
        "  print(\"True label is {}, predicted label is {}\".format(labels[index],predict_label))"
      ],
      "metadata": {
        "colab": {
          "base_uri": "https://localhost:8080/",
          "height": 1245
        },
        "id": "0aq4AZloMTtY",
        "outputId": "f9af15f9-3c52-405e-9316-b797b2f5711c"
      },
      "execution_count": 79,
      "outputs": [
        {
          "output_type": "display_data",
          "data": {
            "text/plain": [
              "<Figure size 432x432 with 1 Axes>"
            ],
            "image/png": "[encoded data removed]"
          },
          "metadata": {
            "needs_background": "light"
          }
        },
        {
          "output_type": "stream",
          "name": "stdout",
          "text": [
            "predict correct\n",
            "predicted class probabilities is : [ 4.188182   1.0812962  0.4868135  6.951038   1.2587215 -5.9300404\n",
            "  2.6513836 -5.440521   1.4013691 -4.834002 ]\n",
            "True label is 3, predicted label is 3\n"
          ]
        },
        {
          "output_type": "display_data",
          "data": {
            "text/plain": [
              "<Figure size 432x432 with 1 Axes>"
            ],
            "image/png": "[encoded data removed]"
          },
          "metadata": {
            "needs_background": "light"
          }
        },
        {
          "output_type": "stream",
          "name": "stdout",
          "text": [
            "predict wrong\n",
            "predicted class probabilities is : [ 3.546933   3.0188005  1.6293657  2.8452587  0.1052426 -2.7657065\n",
            "  2.4353747 -4.298611  -1.3197377 -4.7472887]\n",
            "True label is 2, predicted label is 0\n"
          ]
        },
        {
          "output_type": "display_data",
          "data": {
            "text/plain": [
              "<Figure size 432x432 with 1 Axes>"
            ],
            "image/png": "[encoded data removed]"
          },
          "metadata": {
            "needs_background": "light"
          }
        },
        {
          "output_type": "stream",
          "name": "stdout",
          "text": [
            "predict correct\n",
            "predicted class probabilities is : [-3.3430548 -8.641174  -5.388685   0.2874835 -4.726373   6.248024\n",
            " -5.071958  13.70853    3.8381395  7.458815 ]\n",
            "True label is 7, predicted label is 7\n"
          ]
        }
      ]
    },
    {
      "cell_type": "markdown",
      "source": [
        "### observation\n",
        "\n",
        "As we can see after add more 3 layers to the neural network, the performance is better than the single layer neural network in demo 1. But also can see, after 7 epochs, the traning loss goes low, while test loss goes high, this is a little overffing. "
      ],
      "metadata": {
        "id": "bNOlzWfkdtCT"
      }
    }
  ]
}